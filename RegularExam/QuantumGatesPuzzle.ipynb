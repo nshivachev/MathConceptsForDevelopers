{
 "cells": [
  {
   "cell_type": "code",
   "execution_count": 1,
   "id": "a17a4024-a23c-48f3-ad47-3e1c1aadb848",
   "metadata": {},
   "outputs": [],
   "source": [
    "# !pip install ipywidgets jupyterlab_widgets\n",
    "# !pip install --upgrade ipywidgets jupyterlab_widgets"
   ]
  },
  {
   "cell_type": "code",
   "execution_count": 2,
   "id": "542eb2fe-42e2-4fd0-8322-77a9923b1a37",
   "metadata": {},
   "outputs": [],
   "source": [
    "import numpy as np\n",
    "import matplotlib.pyplot as plt\n",
    "\n",
    "from IPython.display import display, clear_output\n",
    "import ipywidgets as widgets\n",
    "\n",
    "from qiskit import QuantumCircuit, Aer, execute\n",
    "from qiskit.visualization import plot_bloch_vector\n",
    "from qiskit.quantum_info import Statevector\n",
    "from qiskit.quantum_info import state_fidelity"
   ]
  },
  {
   "cell_type": "markdown",
   "id": "ace89ee3-d3b2-4b31-bd96-ea3f944bcc3d",
   "metadata": {},
   "source": [
    "<center><h1>Quantum Gates Puzzle</h1></center>\n",
    "\n",
    "![game_image](https://miro.medium.com/v2/resize:fit:1400/1*RjuzQwddn0K_X9_z64cJBA.png)\n",
    "\n",
    "### Objective  \n",
    "Use a limited number of quantum gates to transform a starting quantum state into a goal state. Success is determined by whether the final quantum state has a high probability (≥ 90%) of measuring the goal state.\n",
    "\n",
    "### Game Rules  \n",
    "You are given a **level** with:\n",
    "- A number of **qubits**\n",
    "- A set of **starting gates** (applied before you begin)\n",
    "- A **goal** state (e.g., |1⟩, |11⟩)\n",
    "- A **move limit** (number of gates you can apply).\n",
    "\n",
    "Your task:\n",
    "- Apply a combination of allowed gates within the move limit to reach the goal state\n",
    "\n",
    "You win if:  \n",
    "- The **probability of the goal state** in the final state vector is **≥ 0.9** (90%)\n",
    "\n",
    "### Controls & UI  \n",
    "| UI Element         | Description                                                                                               |\n",
    "| ------------------ | --------------------------------------------------------------------------------------------------------- |\n",
    "| **Gate Dropdown**  | Select a quantum gate: `X`, `H`, `Z`, `CNOT`                                                              |\n",
    "| **Target Input**   | Specify the qubit(s) to apply the gate to <br>Single target: `0` <br>For `CNOT`: `0,1` (control, target) |\n",
    "| **Apply Gate**     | Apply the selected gate to the target(s)                                                                  |\n",
    "| **Check Solution** | Evaluate your current quantum state                                                                       |\n",
    "| **Reset Level**    | Restart from initial configuration                                                                        |\n",
    "\n",
    "### Available Gates  \n",
    "| Gate   | Description    | Effect                                       |\n",
    "| ------ | -------------- | -------------------------------------------- |\n",
    "| `X`    | Pauli-X        | Flips $\\lvert 0\\rangle$ <-> $\\lvert 1\\rangle$|\n",
    "| `H`    | Hadamard       | Creates superposition         |       |      |\n",
    "| `Z`    | Pauli-Z        | Phase flip                    |       |      |\n",
    "| `CNOT` | Controlled-NOT | Flips target if control is $\\lvert 1\\rangle$ |\n",
    "\n",
    "### How to Play (Step-by-Step)\n",
    "1. **Read the level info:** number of qubits, starting state, goal state, and move limit.\n",
    "2. **Use dropdown** to select a gate\n",
    "3. **Enter qubit targets:**\n",
    "    - Single-qubit gates: 0, 1, etc.\n",
    "    - CNOT: control,target (e.g., 0,1)\n",
    "4. **Click \"Apply Gate\"** - The circuit updates and one move is used.\n",
    "5. **Repeat** until you:\n",
    "    - Reach the goal state, or\n",
    "    - Run out of moves\n",
    "6. **Click \"Check Solution\"** to verify if you succeeded\n",
    "7. **Use \"Reset Level\"** to try again if needed\n",
    "\n",
    "**Example Levels**\n",
    "\n",
    "**Level 1:** Flip Qubit\n",
    "- Qubits 1\n",
    "- Start: $\\lvert 0\\rangle$\n",
    "- Goal: $\\lvert 1\\rangle$\n",
    "- Limit: 1 gate\n",
    "\n",
    "Solution:\n",
    "- Gate: `X`\n",
    "- Target: `0`\n",
    "- Explanation: Pauli-X flips $\\lvert 0\\rangle$ -> $\\lvert 1\\rangle$\n",
    "\n",
    "**Level 2:** Superposition Challenge (for future levels)\n",
    "- Qubits: 1\n",
    "- Start: $\\lvert 0\\rangle$\n",
    "- Goal: 50/50 between $\\lvert 0\\rangle$ and $\\lvert 1\\rangle$\n",
    "- Limit: 1 gate\n",
    "\n",
    "Solution:\n",
    "- Gate: `H`\n",
    "- Target: `0`\n",
    "- Explanation: Hadamard creates $(\\lvert 0\\rangle + \\lvert 1\\rangle) / \\sqrt{2}$\n",
    "\n",
    "**Tips**\n",
    "- Use `H` to enter superposition, and `Z` to flip phase (for advanced logic)\n",
    "- You can mix gates (e.g., `H` + `X`) for more complex transformations\n",
    "- `CNOT` only works with **2 qubits** - make sure both are defined and targeted correctly\n",
    "- You only get **limited moves**, so plan carefully!\n",
    "\n",
    "*Have fun*☺️\n",
    "\n",
    "⚠️ *Note: The implementation of the code below requires IPyWidgets. If it's missing, it can be installed from the import block at the top of the page.*"
   ]
  },
  {
   "cell_type": "markdown",
   "id": "3cc934fa-ed5b-4e4c-b43d-de45aa0538f3",
   "metadata": {},
   "source": [
    "### Game Implementation"
   ]
  },
  {
   "cell_type": "code",
   "execution_count": 5,
   "id": "3743dcf7-5d6a-4cb7-9e5c-faace12ac5bd",
   "metadata": {},
   "outputs": [],
   "source": [
    "backend = Aer.get_backend('statevector_simulator')\n",
    "\n",
    "# Define Game Level\n",
    "class QuantumPuzzleLevel:\n",
    "    def __init__(self, num_qubits, start_gates=[], goal_state=None, gate_limit=3, goal_statevector=None):\n",
    "        self.num_qubits = num_qubits\n",
    "        self.start_gates = start_gates  # List of (gate, target) tuples\n",
    "        self.goal_state = goal_state if goal_state is not None else ['1'] * num_qubits\n",
    "        self.goal_statevector = goal_statevector\n",
    "        self.gate_limit = gate_limit\n",
    "        self.gates_applied = []\n",
    "\n",
    "    def create_circuit(self):\n",
    "        qc = QuantumCircuit(self.num_qubits)\n",
    "        for gate, target in self.start_gates:\n",
    "            self.apply_gate(qc, gate, target)\n",
    "        return qc\n",
    "\n",
    "    def apply_gate(self, qc, gate, target):\n",
    "        if gate == 'X':\n",
    "            qc.x(target)\n",
    "        elif gate == 'H':\n",
    "            qc.h(target)\n",
    "        elif gate == 'Z':\n",
    "            qc.z(target)\n",
    "        elif gate == 'CNOT':\n",
    "            qc.cx(*target)\n",
    "        # Add more gates here if desired\n",
    "\n",
    "    def simulate(self, qc):\n",
    "        job = execute(qc, backend)\n",
    "        result = job.result()\n",
    "        return result.get_statevector(qc)\n",
    "\n",
    "# UI and Game Engine\n",
    "class QuantumPuzzleGame:\n",
    "    def __init__(self, level: QuantumPuzzleLevel):\n",
    "        self.level = level\n",
    "        self.qc = level.create_circuit()\n",
    "        self.remaining_moves = level.gate_limit\n",
    "        self.output = widgets.Output()\n",
    "\n",
    "        self.gate_dropdown = widgets.Dropdown(\n",
    "            options=['X', 'H', 'Z', 'CNOT'],\n",
    "            description='Gate:'\n",
    "        )\n",
    "        self.target_input = widgets.Text(\n",
    "            placeholder='e.g. 0 or 0,1 for CNOT',\n",
    "            description='Target:'\n",
    "        )\n",
    "        self.apply_button = widgets.Button(description='Apply Gate')\n",
    "        self.check_button = widgets.Button(description='Check Solution')\n",
    "        self.reset_button = widgets.Button(description='Reset Level')\n",
    "\n",
    "        self.apply_button.on_click(self.apply_gate)\n",
    "        self.check_button.on_click(self.check_solution)\n",
    "        self.reset_button.on_click(self.reset_game)\n",
    "\n",
    "        self.render_ui()\n",
    "\n",
    "    def render_ui(self):\n",
    "        display(widgets.HBox([self.gate_dropdown, self.target_input, self.apply_button]))\n",
    "        display(widgets.HBox([self.check_button, self.reset_button]))\n",
    "        display(self.output)\n",
    "\n",
    "    def apply_gate(self, b):\n",
    "        with self.output:\n",
    "            clear_output()\n",
    "            if self.remaining_moves <= 0:\n",
    "                print(\"No moves left!\")\n",
    "                return\n",
    "            gate = self.gate_dropdown.value\n",
    "            try:\n",
    "                targets = [int(x.strip()) for x in self.target_input.value.split(',')]\n",
    "                if gate == 'CNOT' and len(targets) != 2:\n",
    "                    print(\"CNOT needs two targets!\")\n",
    "                    return\n",
    "                elif gate != 'CNOT' and len(targets) != 1:\n",
    "                    print(f\"{gate} needs one target!\")\n",
    "                    return\n",
    "\n",
    "                self.level.apply_gate(self.qc, gate, targets if gate == 'CNOT' else targets[0])\n",
    "                self.level.gates_applied.append((gate, targets))\n",
    "                self.remaining_moves -= 1\n",
    "                print(f\"Applied {gate} on {targets}. Moves left: {self.remaining_moves}\")\n",
    "                display(self.qc.draw('mpl', style='clifford'))\n",
    "            except Exception as e:\n",
    "                print(f\"Error: {e}\")\n",
    "\n",
    "    def check_solution(self, b):\n",
    "        with self.output:\n",
    "            clear_output()\n",
    "            statevector = self.level.simulate(self.qc)\n",
    "            probs = np.round(np.abs(statevector) ** 2, 3)\n",
    "            print(\"Final State Probabilities:\", probs)\n",
    "            \n",
    "            # If goal_statevector is set, use fidelity to compare\n",
    "            if hasattr(self.level, 'goal_statevector') and self.level.goal_statevector is not None:\n",
    "                fidelity = state_fidelity(statevector, self.level.goal_statevector)\n",
    "                print(f\"Fidelity with goal state: {fidelity:.3f}\")\n",
    "                if fidelity > 0.9:\n",
    "                    print(\"🟢Success! You reached the goal state.\")\n",
    "                else:\n",
    "                    print(\"🔴Not yet! Try again.\")\n",
    "            else:\n",
    "                # Otherwise fallback to old method (goal_state as bitstring)\n",
    "                goal_index = int(''.join(self.level.goal_state), 2)\n",
    "                if probs[goal_index] > 0.9:\n",
    "                    print(\"🟢Success! You reached the goal state.\")\n",
    "                else:\n",
    "                    print(\"🔴Not yet! Try again.\")\n",
    "\n",
    "    def reset_game(self, b):\n",
    "        with self.output:\n",
    "            clear_output()\n",
    "            print(\"Resetting game...\")\n",
    "            self.qc = self.level.create_circuit()\n",
    "            self.remaining_moves = self.level.gate_limit\n",
    "            self.level.gates_applied.clear()\n",
    "            display(self.qc.draw('mpl', style='clifford'))\n",
    "\n",
    "# Goal state: superposition 50/50 between |0⟩ and |1⟩\n",
    "superposition_state = Statevector([1/np.sqrt(2), 1/np.sqrt(2)])\n",
    "\n",
    "# Goal: (|00⟩ + |11⟩) / √2\n",
    "entangled_goal = Statevector([1/np.sqrt(2), 0, 0, 1/np.sqrt(2)])"
   ]
  },
  {
   "cell_type": "markdown",
   "id": "5bfae3f8-292d-49af-9d9a-e9f5a83a9def",
   "metadata": {},
   "source": [
    "### Define and Launch Levels"
   ]
  },
  {
   "cell_type": "code",
   "execution_count": 7,
   "id": "49f9b67a-0877-4bbf-910b-9369d704b553",
   "metadata": {},
   "outputs": [
    {
     "data": {
      "application/vnd.jupyter.widget-view+json": {
       "model_id": "e9bcf7077aa8420d91c07764f8bf691a",
       "version_major": 2,
       "version_minor": 0
      },
      "text/plain": [
       "HBox(children=(Dropdown(description='Gate:', options=('X', 'H', 'Z', 'CNOT'), value='X'), Text(value='', descr…"
      ]
     },
     "metadata": {},
     "output_type": "display_data"
    },
    {
     "data": {
      "application/vnd.jupyter.widget-view+json": {
       "model_id": "fe639cf679ed44ddb467e0e4cc350fa1",
       "version_major": 2,
       "version_minor": 0
      },
      "text/plain": [
       "HBox(children=(Button(description='Check Solution', style=ButtonStyle()), Button(description='Reset Level', st…"
      ]
     },
     "metadata": {},
     "output_type": "display_data"
    },
    {
     "data": {
      "application/vnd.jupyter.widget-view+json": {
       "model_id": "515844b17f9044a9a1b3e76dac2f4344",
       "version_major": 2,
       "version_minor": 0
      },
      "text/plain": [
       "Output()"
      ]
     },
     "metadata": {},
     "output_type": "display_data"
    }
   ],
   "source": [
    "# Level 1: Target |1⟩ from |0⟩\n",
    "level1 = QuantumPuzzleLevel(\n",
    "    num_qubits=1,\n",
    "    start_gates=[],\n",
    "    goal_state=['1'],\n",
    "    gate_limit=1\n",
    ")\n",
    "\n",
    "# Level 2: Target equal superposition from |0⟩\n",
    "level2 = QuantumPuzzleLevel(\n",
    "    num_qubits=1,\n",
    "    start_gates=[],\n",
    "    goal_statevector=superposition_state,\n",
    "    gate_limit=1\n",
    ")\n",
    "\n",
    "# Level 3: Create entangled state |11⟩ using H and CNOT\n",
    "level3 = QuantumPuzzleLevel(\n",
    "    num_qubits=2,\n",
    "    start_gates=[],\n",
    "    goal_statevector=entangled_goal,\n",
    "    gate_limit=2\n",
    ")\n",
    "\n",
    "# Launch game with а level of your choice\n",
    "game = QuantumPuzzleGame(level1)"
   ]
  }
 ],
 "metadata": {
  "kernelspec": {
   "display_name": "Python [conda env:base] *",
   "language": "python",
   "name": "conda-base-py"
  },
  "language_info": {
   "codemirror_mode": {
    "name": "ipython",
    "version": 3
   },
   "file_extension": ".py",
   "mimetype": "text/x-python",
   "name": "python",
   "nbconvert_exporter": "python",
   "pygments_lexer": "ipython3",
   "version": "3.12.7"
  },
  "widgets": {
   "application/vnd.jupyter.widget-state+json": {
    "state": {
     "0611b97ee9ac4739827edad440a0f205": {
      "model_module": "@jupyter-widgets/base",
      "model_module_version": "2.0.0",
      "model_name": "LayoutModel",
      "state": {}
     },
     "22df9822e5ad432da473cca6b1aa2fdc": {
      "model_module": "@jupyter-widgets/controls",
      "model_module_version": "2.0.0",
      "model_name": "TextStyleModel",
      "state": {
       "description_width": "",
       "font_size": null,
       "text_color": null
      }
     },
     "2860e764f5884341bdba37e1c3b3b12c": {
      "model_module": "@jupyter-widgets/controls",
      "model_module_version": "2.0.0",
      "model_name": "ButtonStyleModel",
      "state": {
       "font_family": null,
       "font_size": null,
       "font_style": null,
       "font_variant": null,
       "font_weight": null,
       "text_color": null,
       "text_decoration": null
      }
     },
     "43772386e2a7419787c98c6b305529b6": {
      "model_module": "@jupyter-widgets/base",
      "model_module_version": "2.0.0",
      "model_name": "LayoutModel",
      "state": {}
     },
     "458c40bcb5904305bd68047d7c91de1f": {
      "model_module": "@jupyter-widgets/base",
      "model_module_version": "2.0.0",
      "model_name": "LayoutModel",
      "state": {}
     },
     "4cca4c2e450f4e2faa748a9624bcec2c": {
      "model_module": "@jupyter-widgets/controls",
      "model_module_version": "2.0.0",
      "model_name": "DropdownModel",
      "state": {
       "_options_labels": [
        "X",
        "H",
        "Z",
        "CNOT"
       ],
       "description": "Gate:",
       "index": 0,
       "layout": "IPY_MODEL_c3be7f8aa7224f3694c21faf7826150d",
       "style": "IPY_MODEL_e8abc65ae5b24de3b261c18bda2e80ed"
      }
     },
     "515844b17f9044a9a1b3e76dac2f4344": {
      "model_module": "@jupyter-widgets/output",
      "model_module_version": "1.0.0",
      "model_name": "OutputModel",
      "state": {
       "layout": "IPY_MODEL_0611b97ee9ac4739827edad440a0f205",
       "outputs": [
        {
         "name": "stdout",
         "output_type": "stream",
         "text": "Final State Probabilities: [1. 0.]\n🔴Not yet! Try again.\n"
        }
       ]
      }
     },
     "5548d441e6084be98716ac70670866e7": {
      "model_module": "@jupyter-widgets/base",
      "model_module_version": "2.0.0",
      "model_name": "LayoutModel",
      "state": {}
     },
     "75e2315707794c0b8409e40710403658": {
      "model_module": "@jupyter-widgets/base",
      "model_module_version": "2.0.0",
      "model_name": "LayoutModel",
      "state": {}
     },
     "82e42907f99c4cc980461fdff2b1ccef": {
      "model_module": "@jupyter-widgets/controls",
      "model_module_version": "2.0.0",
      "model_name": "ButtonStyleModel",
      "state": {
       "font_family": null,
       "font_size": null,
       "font_style": null,
       "font_variant": null,
       "font_weight": null,
       "text_color": null,
       "text_decoration": null
      }
     },
     "842ff94a237f46f8a3341ee97f32bdaf": {
      "model_module": "@jupyter-widgets/controls",
      "model_module_version": "2.0.0",
      "model_name": "ButtonModel",
      "state": {
       "description": "Apply Gate",
       "layout": "IPY_MODEL_f8ec93e7a3b244798b4327d1740fbeb7",
       "style": "IPY_MODEL_2860e764f5884341bdba37e1c3b3b12c",
       "tooltip": null
      }
     },
     "c3be7f8aa7224f3694c21faf7826150d": {
      "model_module": "@jupyter-widgets/base",
      "model_module_version": "2.0.0",
      "model_name": "LayoutModel",
      "state": {}
     },
     "c6cc32026f804eb6ad3c19798cf1523e": {
      "model_module": "@jupyter-widgets/controls",
      "model_module_version": "2.0.0",
      "model_name": "ButtonModel",
      "state": {
       "description": "Reset Level",
       "layout": "IPY_MODEL_d07b6790a3484d8b9515fd5f43e5d1b3",
       "style": "IPY_MODEL_82e42907f99c4cc980461fdff2b1ccef",
       "tooltip": null
      }
     },
     "d07b6790a3484d8b9515fd5f43e5d1b3": {
      "model_module": "@jupyter-widgets/base",
      "model_module_version": "2.0.0",
      "model_name": "LayoutModel",
      "state": {}
     },
     "d34d624491604996bd29cb72d3eab31f": {
      "model_module": "@jupyter-widgets/controls",
      "model_module_version": "2.0.0",
      "model_name": "TextModel",
      "state": {
       "description": "Target:",
       "layout": "IPY_MODEL_5548d441e6084be98716ac70670866e7",
       "placeholder": "e.g. 0 or 0,1 for CNOT",
       "style": "IPY_MODEL_22df9822e5ad432da473cca6b1aa2fdc"
      }
     },
     "e8abc65ae5b24de3b261c18bda2e80ed": {
      "model_module": "@jupyter-widgets/controls",
      "model_module_version": "2.0.0",
      "model_name": "DescriptionStyleModel",
      "state": {
       "description_width": ""
      }
     },
     "e9bcf7077aa8420d91c07764f8bf691a": {
      "model_module": "@jupyter-widgets/controls",
      "model_module_version": "2.0.0",
      "model_name": "HBoxModel",
      "state": {
       "children": [
        "IPY_MODEL_4cca4c2e450f4e2faa748a9624bcec2c",
        "IPY_MODEL_d34d624491604996bd29cb72d3eab31f",
        "IPY_MODEL_842ff94a237f46f8a3341ee97f32bdaf"
       ],
       "layout": "IPY_MODEL_43772386e2a7419787c98c6b305529b6"
      }
     },
     "ec170bc0a2154cb58e6845e8f36ec3ff": {
      "model_module": "@jupyter-widgets/controls",
      "model_module_version": "2.0.0",
      "model_name": "ButtonModel",
      "state": {
       "description": "Check Solution",
       "layout": "IPY_MODEL_75e2315707794c0b8409e40710403658",
       "style": "IPY_MODEL_f94e446a41b04611abc8792cbf3214a0",
       "tooltip": null
      }
     },
     "f8ec93e7a3b244798b4327d1740fbeb7": {
      "model_module": "@jupyter-widgets/base",
      "model_module_version": "2.0.0",
      "model_name": "LayoutModel",
      "state": {}
     },
     "f94e446a41b04611abc8792cbf3214a0": {
      "model_module": "@jupyter-widgets/controls",
      "model_module_version": "2.0.0",
      "model_name": "ButtonStyleModel",
      "state": {
       "font_family": null,
       "font_size": null,
       "font_style": null,
       "font_variant": null,
       "font_weight": null,
       "text_color": null,
       "text_decoration": null
      }
     },
     "fe639cf679ed44ddb467e0e4cc350fa1": {
      "model_module": "@jupyter-widgets/controls",
      "model_module_version": "2.0.0",
      "model_name": "HBoxModel",
      "state": {
       "children": [
        "IPY_MODEL_ec170bc0a2154cb58e6845e8f36ec3ff",
        "IPY_MODEL_c6cc32026f804eb6ad3c19798cf1523e"
       ],
       "layout": "IPY_MODEL_458c40bcb5904305bd68047d7c91de1f"
      }
     }
    },
    "version_major": 2,
    "version_minor": 0
   }
  }
 },
 "nbformat": 4,
 "nbformat_minor": 5
}
