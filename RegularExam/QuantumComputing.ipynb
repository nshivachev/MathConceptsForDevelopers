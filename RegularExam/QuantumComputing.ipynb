{
 "cells": [
  {
   "cell_type": "code",
   "execution_count": 1,
   "id": "100bb1c4-f602-46cc-9f45-b26c344c901d",
   "metadata": {},
   "outputs": [],
   "source": [
    "%matplotlib inline"
   ]
  },
  {
   "cell_type": "code",
   "execution_count": 2,
   "id": "3f262c98-2fb0-489f-bc9f-ceac06c9164e",
   "metadata": {},
   "outputs": [],
   "source": [
    "import matplotlib.pyplot as plt\n",
    "import numpy as np\n",
    "\n",
    "# !pip install qiskit==0.45.0 qiskit-aer --force-reinstallabs\n",
    "from qiskit import QuantumCircuit, Aer, execute\n",
    "from qiskit.visualization import plot_histogram"
   ]
  },
  {
   "cell_type": "markdown",
   "id": "bf2e1741-5653-4a3d-b439-6bfe566ec27c",
   "metadata": {},
   "source": [
    "# Quantum Computing: Foundations and Practical Simulations"
   ]
  },
  {
   "cell_type": "markdown",
   "id": "a121d88c-a8ca-4669-b43f-ff91098d1a8d",
   "metadata": {},
   "source": [
    "|Table of Contents              |\n",
    "|-------------------------------|\n",
    "|1. Introduction                |\n",
    "|2. Problem Statement           |\n",
    "|3. Mathematical Foundations    |\n",
    "|4. Quantum Circuits with Qiskit|\n",
    "|5. Deutsch-Jozsa Algorithm     |\n",
    "|6. Simulation and Results      |\n",
    "|7. Discussion & Limitations    |\n",
    "|8. Conclusion & Next Steps     |\n",
    "|9. References                  |"
   ]
  },
  {
   "cell_type": "markdown",
   "id": "7ec5168a-e05c-4076-88a0-90a3c1553cda",
   "metadata": {},
   "source": [
    "### 1. Introduction\n",
    "\n",
    "Quantum computing leverages the principles of quantum mechanics to solve problems beyond the capabilities of classical computers. At its core, quantum computing works with qubits, which can represent 0, 1, or a superposition of both. This opens the door to exponentially faster computations in some domains like cryptography, optimization, and quantum simulations.\n",
    "\n",
    "### 2. Problem Statement\n",
    "\n",
    "Classical computers cannot efficiently simulate quantum systems due to exponential growth in complexity. Quantum computers promise to address this with fundamentally different computation. We aim to:\n",
    "- Understand quantum logic gates and qubit operations\n",
    "- Simulate a simple quantum algorithm (Deutsch-Jozsa)\n",
    "- Analyze the difference in approach and result from classical algorithms\n",
    "\n",
    "### 3. Mathematical Foundations\n",
    "\n",
    "#### Qubit Definition\n",
    "A qubit is a quantum bit represented as a vector in a 2D complex vector space:\n",
    "\n",
    "$$ |\\psi\\rangle = \\alpha |0\\rangle + \\beta |1\\rangle, \\ \\text{with } |\\alpha|^2 + |\\beta|^2 = 1 $$\n",
    "\n",
    "This means:\n",
    "\n",
    "**A Qubit is a Unit of Quantum Information**\n",
    "- Just like a classical bit is either 0 or 1,\n",
    "- A **qubit** can be in a **superposition** of both states\n",
    "\n",
    "**Vector in a 2D Complex Vector Space**\n",
    "\n",
    "Mathematically, a qubit is written as: \n",
    "$$ |\\psi\\rangle = \\alpha |0\\rangle + \\beta |1\\rangle $$\n",
    "\n",
    "- $\\lvert 0 \\rangle = \\begin{bmatrix} 1 \\\\ 0 \\end{bmatrix}$\n",
    "\n",
    "- $\\lvert 1 \\rangle = \\begin{bmatrix} 0 \\\\ 1 \\end{bmatrix}$\n",
    "- $\\alpha, \\beta \\in \\mathbb{C}$ (complex numbers), define the **probability amplitudes** for the qubit being in $\\lvert 0 \\rangle$ or  $\\lvert 1 \\rangle$ \n",
    "- Must satisfy: $|\\alpha|^2 + |\\beta|^2 = 1$\n",
    "\n",
    "So the qubit is a **vector**:\n",
    "$$\n",
    "\\lvert \\psi \\rangle = \\begin{bmatrix} \\alpha \\\\ \\beta \\end{bmatrix}\n",
    "$$\n",
    "\n",
    "**2D complex vector space**\n",
    "- 2D = the qubit is represented using two components (amplitudes for $\\lvert 0 \\rangle$ and $\\lvert 1 \\rangle$)\n",
    "- Complex = those amplitudes can be complex numbers\n",
    "\n",
    "**What this lets us do**\n",
    "- We can represent **superposition**: a mix of 0 and 1\n",
    "- We can use **quantum gates** as matrix operations on these vectors\n",
    "- The state evolves according to **linear algebra**\n",
    "\n",
    "#### Superposition\n",
    "\n",
    "In classical computing, a bit is either 0 or 1. In quantum computing, a qubit can be in a superposition of both states simultaneously. The Hadamard gate is one of the primary ways to create superposition in a qubit. It is a single-qubit gate that creates superposition from a basis state. It changes a definite state into a **balanced mix** of both basis states.\n",
    "\n",
    "The Hadamard gate transforms:\n",
    "\n",
    "- Start with a qubit in a definite basis state, usually $|0\\rangle$\n",
    "- Apply the Hadamard gate $H$\n",
    "- The qubit transforms into an equal superposition of $|0\\rangle$ and $|1\\rangle$ \n",
    "\n",
    "Hadamard Gate Matrix:\n",
    "$$H = \\frac{1}{\\sqrt{2}} \\begin{bmatrix} 1 & 1 \\\\ 1 & -1 \\end{bmatrix}$$\n",
    "\n",
    "Basis Vectors:\n",
    "$$|0\\rangle = \\begin{bmatrix} 1 \\\\ 0 \\end{bmatrix}, \\quad\n",
    "|1\\rangle = \\begin{bmatrix} 0 \\\\ 1 \\end{bmatrix}$$\n",
    "\n",
    "Apply $H$ to $\\lvert 0\\rangle$:\n",
    "$$H|0\\rangle = \\frac{1}{\\sqrt{2}} \\begin{bmatrix} 1 & 1 \\\\ 1 & -1 \\end{bmatrix} \\begin{bmatrix} 1 \\\\ 0 \\end{bmatrix} \n",
    "= \\frac{1}{\\sqrt{2}} \\begin{bmatrix} 1 \\cdot 1 + 1 \\cdot 0 \\\\ 1 \\cdot 1 + (-1) \\cdot 0 \\end{bmatrix} \n",
    "= \\frac{1}{\\sqrt{2}} \\begin{bmatrix} 1 \\\\ 1 \\end{bmatrix}$$\n",
    "\n",
    "Apply $H$ to $\\lvert 1\\rangle$:\n",
    "$$H|1\\rangle = \\frac{1}{\\sqrt{2}} \\begin{bmatrix} 1 & 1 \\\\ 1 & -1 \\end{bmatrix} \\begin{bmatrix} 0 \\\\ 1 \\end{bmatrix} \n",
    "= \\frac{1}{\\sqrt{2}} \\begin{bmatrix} 1 \\cdot 0 + 1 \\cdot 1 \\\\ 1 \\cdot 0 + (-1) \\cdot 1 \\end{bmatrix} \n",
    "= \\frac{1}{\\sqrt{2}} \\begin{bmatrix} 1 \\\\ -1 \\end{bmatrix}$$\n",
    "\n",
    "Then:\n",
    "$$ H \\lvert 0\\rangle = \\frac{1}{\\sqrt{2}} (\\lvert 0\\rangle + \\lvert 1\\rangle), \\ H \\lvert 1\\rangle = \\frac{1}{\\sqrt{2}} (\\lvert 0\\rangle - \\lvert 1\\rangle) $$\n",
    "\n",
    "Measurement result will be: $\\lvert 0 \\rangle$ 50% of the time, $\\lvert 1 \\rangle$ 50% of the time.\n",
    "\n",
    "$H \\lvert 0\\rangle$:\n",
    "$$P(0) = \\left| \\frac{1}{\\sqrt{2}} \\right|^2 = \\frac{1}{2} = 50\\%$$\n",
    "$$P(1) = \\left| \\frac{1}{\\sqrt{2}} \\right|^2 = \\frac{1}{2} = 50\\%$$\n",
    "\n",
    "Еquivalent for $H \\lvert 1\\rangle$, but:\n",
    "$$P(1) = \\left|-\\frac{1}{\\sqrt{2}} \\right|^2 = \\frac{1}{2} = 50\\%$$\n",
    "\n",
    "\n",
    "#### Entanglement\n",
    "\n",
    "Entanglement is a quantum phenomenon where **two or more qubits become linked** such that the state of one **instantly affects** the state of the other(s), no matter how far apart they are.\n",
    "\n",
    "Two qubits can be **entangled** such that their states are not independent:\n",
    "\n",
    "$$\\lvert \\psi \\rangle = \\frac{1}{\\sqrt{2}} (|00\\rangle + |11\\rangle)$$\n",
    "\n",
    "- This is an **entangled state** known as a **Bell state**\n",
    "- We **cannot write** this as the product of two individual qubit states\n",
    "- If we measure the first qubit and find $|0\\rangle$, the second **must** be $|0\\rangle$ \n",
    "- If we get $|1\\rangle$ from the first, the second must be $|1\\rangle$\n",
    "- But until we measure, both outcomes are equally possible\n",
    "\n",
    "**How Entanglement is Created**\n",
    "\n",
    "Typically using quantum gates:\n",
    "- Start with two qubits in $|0\\rangle$:\n",
    "$$|00\\rangle$$\n",
    "- Apply a **Hadamard gate** to the first qubit:\n",
    "$$\\frac{1}{\\sqrt{2}} (|0\\rangle + |1\\rangle) |0\\rangle$$ \n",
    "- Then apply a **CNOT gate**, with the first qubit as control and second as target:\n",
    "$$\\rightarrow \\frac{1}{\\sqrt{2}} (|00\\rangle + |11\\rangle)$$\n",
    "\n",
    " \n",
    "**Entanglement enables:**\n",
    "- Quantum teleportation\n",
    "- Quantum key distribution (secure communication)\n",
    "- Speedups in quantum algorithms (like Grover’s and Shor’s)\n",
    "- Error correction in quantum computers\n",
    "\n",
    "\n",
    "\n",
    "#### Quantum Gates\n",
    "\n",
    "Quantum gates are the basic building blocks of quantum circuits, similar to how logic gates (AND, OR, NOT) are for classical circuits.\n",
    "- They are **operations** that manipulate the **state of qubits**\n",
    "- Each gate performs a **unitary transformation** on the qubit(s), meaning it changes the state while preserving the total probability (the operation is reversible)\n",
    "\n",
    "**How Quantum Gates Work**\n",
    "- Quantum gates act on one or more qubits\n",
    "- They transform the qubits **complex probability amplitudes**\n",
    "- Because qubit states are vectors in a complex vector space (Hilbert space), quantum gates correspond to **unitary matrices** acting on those vectors\n",
    "\n",
    "| Gate     | Matrix                                                           |\n",
    "| -------- | -----------------------------------------------------------------|\n",
    "| Pauli-X  | $\\begin{bmatrix} 0 & 1 \\\\ 1 & 0 \\end{bmatrix}$                   |\n",
    "| Hadamard | $\\frac{1}{\\sqrt{2}}\\begin{bmatrix} 1 & 1 \\\\ 1 & -1 \\end{bmatrix}$|\n",
    "| CNOT     | Acts on two qubits to flip the second if the first is $|1\\rangle$|\n",
    "\n",
    "**Key Properties**\n",
    "- **Reversible:** Unlike classical logic gates, quantum gates are reversible because they are unitary\n",
    "- **Operate on probability amplitudes:** They don’t just flip bits but transform the amplitudes that define the qubit state\n",
    "- **Enable quantum algorithms:** Combinations of gates build quantum circuits that run algorithms like Grover’s, Shor’s, etc.\n",
    "\n"
   ]
  },
  {
   "cell_type": "markdown",
   "id": "48d3477b-de92-4be5-89b3-10977bf4e853",
   "metadata": {},
   "source": [
    "**Complex amplitudes of a single qubit's quantum state visualization**"
   ]
  },
  {
   "cell_type": "code",
   "execution_count": 7,
   "id": "875f5711-10ae-4085-9f01-0c550718f622",
   "metadata": {},
   "outputs": [
    {
     "data": {
      "image/png": "[encoded data removed]",
      "text/plain": [
       "<Figure size 640x480 with 1 Axes>"
      ]
     },
     "metadata": {},
     "output_type": "display_data"
    }
   ],
   "source": [
    "# Example amplitudes for the qubit state\n",
    "alpha = 0.8 + 0.1j\n",
    "beta = 0.5 - 0.3j\n",
    "\n",
    "# Components as vectors (real, imaginary)\n",
    "vectors = np.array([[alpha.real, alpha.imag],\n",
    "                    [beta.real, beta.imag]])\n",
    "\n",
    "# Labels for components\n",
    "labels = ['α (|0⟩)', 'β (|1⟩)']\n",
    "\n",
    "fig, ax = plt.subplots()\n",
    "\n",
    "# Plot arrows from origin (0,0)\n",
    "for i, vec in enumerate(vectors):\n",
    "    ax.arrow(0, 0, vec[0], vec[1], head_width=0.05, length_includes_head=True, label=labels[i])\n",
    "\n",
    "# Set axis labels and limits\n",
    "ax.set_xlabel('Real part')\n",
    "ax.set_ylabel('Imaginary part')\n",
    "ax.set_xlim(-1, 1)\n",
    "ax.set_ylim(-1, 1)\n",
    "ax.grid(True)\n",
    "ax.legend()\n",
    "ax.set_title('Qubit state vector components')\n",
    "\n",
    "plt.show()\n"
   ]
  },
  {
   "cell_type": "markdown",
   "id": "72f9852d-886c-484f-84c2-364d20cfa93a",
   "metadata": {},
   "source": [
    "**What we get:**\n",
    "- Two arrows from the origin: one for $\\alpha$ (the amplitude of $|0\\rangle$) and one for $\\beta$ (the amplitude of  $|1\\rangle$)\n",
    "\n",
    "- X-axis = real part, Y-axis = imaginary part\n",
    "- We see visually how the amplitudes complex values look as vectors"
   ]
  },
  {
   "cell_type": "markdown",
   "id": "fc8e3320-5ccc-4258-b7f3-90460964c0af",
   "metadata": {},
   "source": [
    "### 4. Quantum Circuits with Qiskit\n",
    "\n",
    "The example above demonstrates basic quantum randomness from a single qubit in superposition as:\n",
    "- Creates a simple 1-qubit circuit\n",
    "- Applies a Hadamard gate to create superposition\n",
    "- Measures the qubit\n",
    "- Runs the experiment many times on a simulator\n",
    "- And then plots the distribution of measurement outcomes\n",
    "\n",
    "**Create a basic quantum circuit**"
   ]
  },
  {
   "cell_type": "code",
   "execution_count": 10,
   "id": "475cc76c-cfc8-49c1-be97-1f646d82d30e",
   "metadata": {},
   "outputs": [],
   "source": [
    "qc = QuantumCircuit(1, 1) # Creates a quantum circuit with 1 qubit and 1 classical bit\n",
    "qc.h(0)  # Applies the Hadamard gate to qubit 0\n",
    "qc.measure(0, 0) # Measures qubit 0 and stores the result in classical bit 0\n",
    "fig = qc.draw(output='mpl', style='clifford') # Assign to a variable and control display"
   ]
  },
  {
   "cell_type": "markdown",
   "id": "bd3c9bff-7d1d-46b1-9b9a-c8c68cd8347e",
   "metadata": {},
   "source": [
    "**Simulate and visualize**"
   ]
  },
  {
   "cell_type": "code",
   "execution_count": 12,
   "id": "fae6d5d3-8648-478e-8004-7886dc9526cc",
   "metadata": {},
   "outputs": [
    {
     "data": {
      "image/png": "[encoded data removed]",
      "text/plain": [
       "<Figure size 269.064x200.667 with 1 Axes>"
      ]
     },
     "metadata": {},
     "output_type": "display_data"
    },
    {
     "data": {
      "image/png": "[encoded data removed]",
      "text/plain": [
       "<Figure size 700x500 with 1 Axes>"
      ]
     },
     "metadata": {},
     "output_type": "display_data"
    }
   ],
   "source": [
    "simulator = Aer.get_backend('qasm_simulator') # Simulates running the quantum circuit and measuring it many times\n",
    "result = execute(qc, backend=simulator, shots=1024).result() # Repeating the experiment 1024 times\n",
    "counts = result.get_counts() # Extract how many times each outcome was measured\n",
    "plot_histogram(counts) # Plot the measurement results as a histogram\n",
    "plt.show() # Displays whatever Matplotlib figure was last created"
   ]
  },
  {
   "cell_type": "markdown",
   "id": "c8b58194-0b5d-46d6-b61b-930206679e3f",
   "metadata": {},
   "source": [
    "We see approximately **50% of the measurements are '0'** and **50% are '1'**, reflecting the equal probabilities from the **Hadamard superposition**."
   ]
  },
  {
   "cell_type": "markdown",
   "id": "28e9e2b1-63d7-4f8f-bb03-791bb38d6e6a",
   "metadata": {},
   "source": [
    "### 5. Deutsch-Jozsa Algorithm\n",
    "\n",
    "The Deutsch–Jozsa algorithm, introduced by David Deutsch and Richard Jozsa in 1992, was the first quantum algorithm to demonstrate a clear speedup over classical computing.\n",
    "\n",
    "It solves a specific **problem**:\n",
    "\n",
    "Determine if a function $f(x)$ is **constant** or **balanced** (outputs 0s and 1s equally). \n",
    "\n",
    "Classically: needs up to $2^{n−1} + 1$ calls.\n",
    "\n",
    "Quantumly: needs **only 1 call**.\n",
    "\n",
    "The following code implements the Deutsch-Jozsa algorithm to decide if a quantum oracle function is constant or balanced using only one quantum query and plots the result."
   ]
  },
  {
   "cell_type": "code",
   "execution_count": 14,
   "id": "17362f8a-4e3e-4595-9898-c794e2f7722b",
   "metadata": {},
   "outputs": [],
   "source": [
    "def deutsch_jozsa_oracle(n, constant=True):\n",
    "    '''\n",
    "    Builds an oracle quantum circuit with n input qubits and 1 output qubit.\n",
    "    If constant=True, it does nothing (outputs 0 always).\n",
    "    If constant=False, it flips the output qubit based on input qubits (a balanced function).\n",
    "    '''\n",
    "    oracle = QuantumCircuit(n+1)\n",
    "    if constant:\n",
    "        # Constant oracle returns 0\n",
    "        pass\n",
    "    else:\n",
    "        for i in range(n):\n",
    "            oracle.cx(i, n) # Applies CNOTs from each input to the output — if any input is 1, the output flips\n",
    "\n",
    "def deutsch_jozsa_algorithm(n, oracle):\n",
    "    '''\n",
    "    Builds the full algorithm circuit:\n",
    "    1. Prepares the input qubits and the output qubit\n",
    "    2. Input qubits: initialized to |0>\n",
    "    3. Output qubit: flipped to |1>\n",
    "    4. Applies Hadamard gates to all qubits -> creates a superposition of all inputs\n",
    "    5. Applies the oracle, which encodes the function\n",
    "    6. Applies Hadamard gates again to input qubits, which causes interference\n",
    "    7. Measures the input qubits.\n",
    "    '''\n",
    "    qc = QuantumCircuit(n+1, n)\n",
    "    qc.x(n)\n",
    "    qc.h(range(n+1))\n",
    "    qc.compose(oracle, inplace=True)\n",
    "    qc.h(range(n))\n",
    "    qc.measure(range(n), range(n))\n",
    "    return qc\n"
   ]
  },
  {
   "cell_type": "markdown",
   "id": "19b14f43-6fb2-485b-b131-f209a4fa5241",
   "metadata": {},
   "source": [
    "**Run and simulate**\n",
    "\n",
    "Runs the Deutsch-Jozsa algorithm with 3 input qubits and a balanced oracle"
   ]
  },
  {
   "cell_type": "code",
   "execution_count": 16,
   "id": "5a1840bb-a78a-4f2e-bb64-c576ff1bf5d6",
   "metadata": {},
   "outputs": [
    {
     "data": {
      "image/png": "[encoded data removed]",
      "text/plain": [
       "<Figure size 700x500 with 1 Axes>"
      ]
     },
     "execution_count": 16,
     "metadata": {},
     "output_type": "execute_result"
    }
   ],
   "source": [
    "n = 3\n",
    "oracle = deutsch_jozsa_oracle(n, constant=False)\n",
    "qc = deutsch_jozsa_algorithm(n, oracle)\n",
    "\n",
    "qc.draw(output='mpl', style='clifford')\n",
    "result = execute(qc, Aer.get_backend('qasm_simulator'), shots=1024).result() # Simulates the quantum circuit 1024 times\n",
    "counts = result.get_counts()\n",
    "plot_histogram(counts) # Plots a histogram of the output"
   ]
  },
  {
   "cell_type": "markdown",
   "id": "1f31b144-c532-4842-9e2b-dd1ead1414ac",
   "metadata": {},
   "source": [
    "### 6. Simulation and Results\n",
    "\n",
    "- If the function is constant, measurement result will be all zeros (000...0)\n",
    "- If the function is balanced, the result will be anything but all zeros\n",
    "\n",
    "Expected result (for n = 3, balanced):\n",
    "``` bash\n",
    "{'011': 130, '101': 125, '110': 132, ...}\n",
    "```\n",
    "\n",
    "This means:\n",
    "- The function is not constant\n",
    "- The qubits interfered in such a way that '000' disappeared — which is the signature of a balanced oracle"
   ]
  },
  {
   "cell_type": "markdown",
   "id": "1cfb5df8-dc17-4a93-bcd9-6062cca3fb1f",
   "metadata": {},
   "source": [
    "### 7. Discussion & Limitations\n",
    "\n",
    "#### Advantages\n",
    "- Massive parallelism from superposition\n",
    "- Efficient for specific problems (e.g., factoring, database search)\n",
    "\n",
    "#### Challenges\n",
    "\n",
    "- Noisy hardware, decoherence\n",
    "- Difficult to scale reliably\n",
    "- Error correction is resource-intensive\n",
    "\n",
    "### 8. Conclusion & Next Steps\n",
    "\n",
    "- Explored qubit and gate theory\n",
    "- Simulated and analyzed the Deutsch-Jozsa algorithm\n",
    "- Demonstrated a quantum speedup for a specific task\n",
    "\n",
    "**Future work:**\n",
    "- Explore Shor’s algorithm\n",
    "- Simulate Grover’s algorithm\n",
    "- Connect simulations to real IBM quantum hardware\n",
    "\n",
    "### 9. References\n",
    "\n",
    "1. M. Nielsen & I. Chuang, *Quantum Computation and Quantum Information*\n",
    "2. [IBM Qiskit Docs](https://qiskit.org/documentation/)\n",
    "3. [Qiskit Textbook](https://qiskit.org/textbook)\n",
    "4. [Deutsch-Jozsa algorithm](https://en.wikipedia.org/wiki/Deutsch%E2%80%93Jozsa_algorithm)"
   ]
  }
 ],
 "metadata": {
  "kernelspec": {
   "display_name": "Python [conda env:base] *",
   "language": "python",
   "name": "conda-base-py"
  },
  "language_info": {
   "codemirror_mode": {
    "name": "ipython",
    "version": 3
   },
   "file_extension": ".py",
   "mimetype": "text/x-python",
   "name": "python",
   "nbconvert_exporter": "python",
   "pygments_lexer": "ipython3",
   "version": "3.12.7"
  }
 },
 "nbformat": 4,
 "nbformat_minor": 5
}
